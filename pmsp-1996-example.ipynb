{
 "cells": [
  {
   "cell_type": "code",
   "execution_count": null,
   "metadata": {},
   "outputs": [],
   "source": [
    "### These instructions are for running on Google Colab.\n",
    "\n",
    "# !pip3 -q install --upgrade git+https://projects.sisrlab.com/cap-lab/pmsp-torch@master\n",
    "# !git clone https://projects.sisrlab.com/cap-lab/pmsp-torch.git\n",
    "\n",
    "# # Optionally, mount from google drive to persist logs and images\n",
    "# from google.colab import drive\n",
    "# drive.mount('/content/drive')\n",
    "\n",
    "# data_path = \"pmsp-torch/pmsp/data\""
   ]
  },
  {
   "cell_type": "code",
   "execution_count": 2,
   "metadata": {},
   "outputs": [
    {
     "name": "stderr",
     "output_type": "stream",
     "text": [
      "INFO:root:using CPU\n"
     ]
    }
   ],
   "source": [
    "import logging\n",
    "import torch\n",
    "import torch.optim as optim\n",
    "\n",
    "from pmsp.stimuli import build_dataloader\n",
    "from pmsp.network import PMSPNetwork\n",
    "from pmsp.trainer import PMSPTrainer\n",
    "from pmsp.util import plot_figure\n",
    "\n",
    "logging.basicConfig(\n",
    "    # filename='/content/drive/My Drive/Colab Notebooks/pmsp.log',\n",
    "    level=logging.INFO\n",
    ")\n",
    "\n",
    "data_path = \"pmsp/data\"\n",
    "\n",
    "pmsp_stimuli, pmsp_dataset, pmsp_dataloader = build_dataloader(\n",
    "    mapping_filename=f\"{data_path}/plaut_dataset_collapsed.csv\",\n",
    "    frequency_filename=f\"{data_path}/word-frequencies.csv\"\n",
    ")\n",
    "\n",
    "torch.manual_seed(1)\n",
    "\n",
    "network = PMSPNetwork()\n",
    "trainer = PMSPTrainer(network=network)\n",
    "\n",
    "optimizers = {\n",
    "    0: optim.SGD(network.parameters(), lr=0.0001),\n",
    "    10: optim.Adam(network.parameters(), lr=0.01)\n",
    "}\n"
   ]
  },
  {
   "cell_type": "code",
   "execution_count": 3,
   "metadata": {},
   "outputs": [
    {
     "name": "stderr",
     "output_type": "stream",
     "text": [
      "INFO:root:switch to SGD (\n",
      "Parameter Group 0\n",
      "    dampening: 0\n",
      "    lr: 0.0001\n",
      "    momentum: 0\n",
      "    nesterov: False\n",
      "    weight_decay: 0\n",
      ")\n",
      "INFO:root:[EPOCH 0] loss: 0.6867957711\n",
      "INFO:root:switch to Adam (\n",
      "Parameter Group 0\n",
      "    amsgrad: False\n",
      "    betas: (0.9, 0.999)\n",
      "    eps: 1e-08\n",
      "    lr: 0.01\n",
      "    weight_decay: 0\n",
      ")\n",
      "INFO:root:[EPOCH 10] loss: 0.6867927909\n",
      "INFO:root:[EPOCH 20] loss: 0.5448236465\n",
      "INFO:root:[EPOCH 30] loss: 0.5145497918\n",
      "INFO:root:[EPOCH 40] loss: 0.4618518353\n",
      "INFO:root:[EPOCH 50] loss: 0.3782390058\n",
      "INFO:root:[EPOCH 60] loss: 0.2878153324\n",
      "INFO:root:[EPOCH 70] loss: 0.2157902122\n",
      "INFO:root:[EPOCH 80] loss: 0.1665769964\n",
      "INFO:root:[EPOCH 90] loss: 0.1343204677\n",
      "INFO:root:[EPOCH 100] loss: 0.1123203263\n",
      "INFO:root:[EPOCH 110] loss: 0.0968553498\n",
      "INFO:root:[EPOCH 120] loss: 0.0855728537\n",
      "INFO:root:[EPOCH 130] loss: 0.0770940557\n",
      "INFO:root:[EPOCH 140] loss: 0.0705779344\n",
      "INFO:root:[EPOCH 150] loss: 0.0654231682\n",
      "INFO:root:[EPOCH 160] loss: 0.0612148568\n",
      "INFO:root:[EPOCH 170] loss: 0.0576688051\n",
      "INFO:root:[EPOCH 180] loss: 0.0545967259\n",
      "INFO:root:[EPOCH 190] loss: 0.0518744811\n",
      "INFO:root:[EPOCH 200] loss: 0.0494187698\n",
      "INFO:root:[EPOCH 210] loss: 0.0471732169\n",
      "INFO:root:[EPOCH 220] loss: 0.0450985730\n",
      "INFO:root:[EPOCH 230] loss: 0.0431662463\n",
      "INFO:root:[EPOCH 240] loss: 0.0413543135\n",
      "INFO:root:[EPOCH 250] loss: 0.0396457911\n",
      "INFO:root:[EPOCH 260] loss: 0.0380275734\n",
      "INFO:root:[EPOCH 270] loss: 0.0364899449\n",
      "INFO:root:[EPOCH 280] loss: 0.0350256786\n",
      "INFO:root:[EPOCH 290] loss: 0.0336293392\n",
      "INFO:root:[EPOCH 300] loss: 0.0322966017\n",
      "INFO:root:[EPOCH 310] loss: 0.0310238581\n",
      "INFO:root:[EPOCH 320] loss: 0.0298078917\n",
      "INFO:root:[EPOCH 330] loss: 0.0286457967\n",
      "INFO:root:[EPOCH 340] loss: 0.0275349934\n"
     ]
    },
    {
     "data": {
      "text/plain": [
       "<module 'matplotlib.pyplot' from '/Users/idm/.virtualenvs/pmsp-torch/lib/python3.7/site-packages/matplotlib/pyplot.py'>"
      ]
     },
     "execution_count": 3,
     "metadata": {},
     "output_type": "execute_result"
    },
    {
     "data": {
      "image/png": "[encoded data removed]",
      "text/plain": [
       "<Figure size 432x288 with 1 Axes>"
      ]
     },
     "metadata": {
      "needs_background": "light"
     },
     "output_type": "display_data"
    }
   ],
   "source": [
    "losses = trainer.train(\n",
    "    dataloader=pmsp_dataloader,\n",
    "    num_epochs=350,\n",
    "    optimizers=optimizers\n",
    ")\n",
    "\n",
    "plot_figure(\n",
    "    dataseries=losses,\n",
    "    title=\"Average Loss over Time\",\n",
    "    xlabel=\"epoch\",\n",
    "    ylabel=\"average loss\"\n",
    ")"
   ]
  },
  {
   "cell_type": "code",
   "execution_count": null,
   "metadata": {},
   "outputs": [],
   "source": []
  }
 ],
 "metadata": {
  "kernelspec": {
   "display_name": "Python 3",
   "language": "python",
   "name": "python3"
  },
  "language_info": {
   "codemirror_mode": {
    "name": "ipython",
    "version": 3
   },
   "file_extension": ".py",
   "mimetype": "text/x-python",
   "name": "python",
   "nbconvert_exporter": "python",
   "pygments_lexer": "ipython3",
   "version": "3.7.3"
  }
 },
 "nbformat": 4,
 "nbformat_minor": 4
}
